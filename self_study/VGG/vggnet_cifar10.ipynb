{
 "cells": [
  {
   "cell_type": "code",
   "execution_count": 4,
   "id": "45e1ea8f-84fb-42f0-8262-7fae66b54967",
   "metadata": {},
   "outputs": [],
   "source": [
    "import tensorflow as tf\n",
    "\n",
    "import numpy as np"
   ]
  },
  {
   "cell_type": "code",
   "execution_count": 5,
   "id": "baaff782-d9f8-465b-8e99-c95fa957be0b",
   "metadata": {},
   "outputs": [
    {
     "name": "stdout",
     "output_type": "stream",
     "text": [
      "Model: \"model_1\"\n",
      "_________________________________________________________________\n",
      "Layer (type)                 Output Shape              Param #   \n",
      "=================================================================\n",
      "input_2 (InputLayer)         [(None, 32, 32, 3)]       0         \n",
      "_________________________________________________________________\n",
      "conv2d_7 (Conv2D)            (None, 32, 32, 32)        896       \n",
      "_________________________________________________________________\n",
      "conv2d_8 (Conv2D)            (None, 32, 32, 32)        9248      \n",
      "_________________________________________________________________\n",
      "max_pooling2d_3 (MaxPooling2 (None, 16, 16, 32)        0         \n",
      "_________________________________________________________________\n",
      "conv2d_9 (Conv2D)            (None, 16, 16, 64)        18496     \n",
      "_________________________________________________________________\n",
      "conv2d_10 (Conv2D)           (None, 16, 16, 64)        36928     \n",
      "_________________________________________________________________\n",
      "max_pooling2d_4 (MaxPooling2 (None, 8, 8, 64)          0         \n",
      "_________________________________________________________________\n",
      "conv2d_11 (Conv2D)           (None, 8, 8, 128)         73856     \n",
      "_________________________________________________________________\n",
      "conv2d_12 (Conv2D)           (None, 8, 8, 128)         147584    \n",
      "_________________________________________________________________\n",
      "conv2d_13 (Conv2D)           (None, 8, 8, 128)         147584    \n",
      "_________________________________________________________________\n",
      "max_pooling2d_5 (MaxPooling2 (None, 4, 4, 128)         0         \n",
      "_________________________________________________________________\n",
      "flatten_1 (Flatten)          (None, 2048)              0         \n",
      "_________________________________________________________________\n",
      "dense_2 (Dense)              (None, 512)               1049088   \n",
      "_________________________________________________________________\n",
      "dense_3 (Dense)              (None, 10)                5130      \n",
      "=================================================================\n",
      "Total params: 1,488,810\n",
      "Trainable params: 1,488,810\n",
      "Non-trainable params: 0\n",
      "_________________________________________________________________\n",
      "Epoch 1/10\n",
      "782/782 [==============================] - 64s 82ms/step - loss: 1.5663 - accuracy: 0.4188 - val_loss: 1.2777 - val_accuracy: 0.5474\n",
      "Epoch 2/10\n",
      "782/782 [==============================] - 64s 82ms/step - loss: 1.0541 - accuracy: 0.6245 - val_loss: 0.9564 - val_accuracy: 0.6637\n",
      "Epoch 3/10\n",
      "782/782 [==============================] - 65s 82ms/step - loss: 0.8332 - accuracy: 0.7049 - val_loss: 0.8539 - val_accuracy: 0.7132\n",
      "Epoch 4/10\n",
      "782/782 [==============================] - 63s 81ms/step - loss: 0.6953 - accuracy: 0.7546 - val_loss: 0.7426 - val_accuracy: 0.7428\n",
      "Epoch 5/10\n",
      "782/782 [==============================] - 63s 81ms/step - loss: 0.5866 - accuracy: 0.7933 - val_loss: 0.7125 - val_accuracy: 0.7570\n",
      "Epoch 6/10\n",
      "782/782 [==============================] - 64s 81ms/step - loss: 0.4938 - accuracy: 0.8245 - val_loss: 0.7472 - val_accuracy: 0.7497\n",
      "Epoch 7/10\n",
      "782/782 [==============================] - 64s 81ms/step - loss: 0.4139 - accuracy: 0.8515 - val_loss: 0.7747 - val_accuracy: 0.7613\n",
      "Epoch 8/10\n",
      "782/782 [==============================] - 64s 81ms/step - loss: 0.3342 - accuracy: 0.8811 - val_loss: 0.8247 - val_accuracy: 0.7615\n",
      "Epoch 9/10\n",
      "782/782 [==============================] - 63s 81ms/step - loss: 0.2723 - accuracy: 0.9045 - val_loss: 0.8566 - val_accuracy: 0.7598\n",
      "Epoch 10/10\n",
      "782/782 [==============================] - 64s 82ms/step - loss: 0.2281 - accuracy: 0.9199 - val_loss: 0.9317 - val_accuracy: 0.7627\n"
     ]
    },
    {
     "data": {
      "text/plain": [
       "<keras.callbacks.History at 0x1ba37cf04f0>"
      ]
     },
     "execution_count": 5,
     "metadata": {},
     "output_type": "execute_result"
    }
   ],
   "source": [
    "# https://www.youtube.com/watch?v=3kOa1d_2ZmU\n",
    "\n",
    "# Data Prepare START\n",
    "\n",
    "(x_train, y_train), (x_test, y_test) = tf.keras.datasets.cifar10.load_data()\n",
    "\n",
    "\n",
    "\n",
    "x_train, x_test = x_train / 255.0, x_test / 255.0\n",
    "\n",
    "# Data Prepare END\n",
    "\n",
    "\n",
    "\n",
    "\n",
    "\n",
    "def vgg_block(in_layer, n_conv, n_filter, filter_size=(3, 3), reduce_size=True):\n",
    "\n",
    "    layer = in_layer\n",
    "\n",
    "    for i in range(n_conv):\n",
    "\n",
    "        layer = tf.keras.layers.Conv2D(n_filter, filter_size, padding='SAME', activation='relu')(layer)\n",
    "\n",
    "\n",
    "\n",
    "    if reduce_size:\n",
    "\n",
    "        layer = tf.keras.layers.MaxPool2D((2, 2))(layer)\n",
    "\n",
    "    return layer\n",
    "\n",
    "\n",
    "\n",
    "\n",
    "\n",
    "input_layer = tf.keras.layers.Input(shape=(32, 32, 3))\n",
    "\n",
    "vgg_block01 = vgg_block(input_layer, 2, 32) # 16x16x32\n",
    "\n",
    "vgg_block02 = vgg_block(vgg_block01, 2, 64) # 8x8x64\n",
    "\n",
    "vgg_block03 = vgg_block(vgg_block02, 3, 128) # 4x4x128\n",
    "\n",
    "\n",
    "\n",
    "flatten = tf.keras.layers.Flatten()(vgg_block03) # 2048\n",
    "\n",
    "dense01 = tf.keras.layers.Dense(512, activation='relu')(flatten)\n",
    "\n",
    "output = tf.keras.layers.Dense(10, activation='softmax')(dense01)\n",
    "\n",
    "\n",
    "\n",
    "model = tf.keras.models.Model(input_layer, output)\n",
    "\n",
    "\n",
    "\n",
    "model.compile(optimizer='adam', loss='sparse_categorical_crossentropy', metrics=['accuracy'])\n",
    "\n",
    "model.summary()\n",
    "\n",
    "\n",
    "\n",
    "model.fit(x_train, y_train, batch_size=64, epochs=10,\n",
    "\n",
    "          validation_data=(x_test, y_test))"
   ]
  },
  {
   "cell_type": "code",
   "execution_count": 7,
   "id": "989aefa5-59b8-4be0-8326-a5b64c0f61de",
   "metadata": {},
   "outputs": [
    {
     "data": {
      "text/plain": [
       "<matplotlib.image.AxesImage at 0x1ba38413ee0>"
      ]
     },
     "execution_count": 7,
     "metadata": {},
     "output_type": "execute_result"
    },
    {
     "data": {
      "image/png": "[encoded data removed]",
      "text/plain": [
       "<Figure size 432x288 with 1 Axes>"
      ]
     },
     "metadata": {
      "needs_background": "light"
     },
     "output_type": "display_data"
    }
   ],
   "source": [
    "import matplotlib.pyplot as plt\n",
    "\n",
    "plt.imshow(x_train[0])"
   ]
  },
  {
   "cell_type": "code",
   "execution_count": 11,
   "id": "ae9de5fb-870e-48f1-86cf-10dd24747c5f",
   "metadata": {},
   "outputs": [
    {
     "data": {
      "text/plain": [
       "<matplotlib.image.AxesImage at 0x1ba384e40a0>"
      ]
     },
     "execution_count": 11,
     "metadata": {},
     "output_type": "execute_result"
    },
    {
     "data": {
      "image/png": "[encoded data removed]",
      "text/plain": [
       "<Figure size 432x288 with 1 Axes>"
      ]
     },
     "metadata": {
      "needs_background": "light"
     },
     "output_type": "display_data"
    }
   ],
   "source": [
    "plt.imshow(x_train[40000])"
   ]
  },
  {
   "cell_type": "code",
   "execution_count": 12,
   "id": "63ef896f-3f19-457f-81f6-906e14dcc5e6",
   "metadata": {},
   "outputs": [
    {
     "data": {
      "text/plain": [
       "<matplotlib.image.AxesImage at 0x1ba3854bc70>"
      ]
     },
     "execution_count": 12,
     "metadata": {},
     "output_type": "execute_result"
    },
    {
     "data": {
      "image/png": "[encoded data removed]",
      "text/plain": [
       "<Figure size 432x288 with 1 Axes>"
      ]
     },
     "metadata": {
      "needs_background": "light"
     },
     "output_type": "display_data"
    }
   ],
   "source": [
    "plt.imshow(x_train[49999])"
   ]
  },
  {
   "cell_type": "code",
   "execution_count": 13,
   "id": "2075e32d-7831-4c3d-8431-534d4d1ee5d5",
   "metadata": {},
   "outputs": [
    {
     "data": {
      "text/plain": [
       "<matplotlib.image.AxesImage at 0x1ba385a4c40>"
      ]
     },
     "execution_count": 13,
     "metadata": {},
     "output_type": "execute_result"
    },
    {
     "data": {
      "image/png": "[encoded data removed]",
      "text/plain": [
       "<Figure size 432x288 with 1 Axes>"
      ]
     },
     "metadata": {
      "needs_background": "light"
     },
     "output_type": "display_data"
    }
   ],
   "source": [
    "plt.imshow(x_train[108])"
   ]
  },
  {
   "cell_type": "code",
   "execution_count": 14,
   "id": "6ada696d-e0e5-47f0-925d-b05b57b2645a",
   "metadata": {},
   "outputs": [
    {
     "data": {
      "text/plain": [
       "<matplotlib.image.AxesImage at 0x1ba385fbe50>"
      ]
     },
     "execution_count": 14,
     "metadata": {},
     "output_type": "execute_result"
    },
    {
     "data": {
      "image/png": "[encoded data removed]",
      "text/plain": [
       "<Figure size 432x288 with 1 Axes>"
      ]
     },
     "metadata": {
      "needs_background": "light"
     },
     "output_type": "display_data"
    }
   ],
   "source": [
    "plt.imshow(x_train[10])"
   ]
  },
  {
   "cell_type": "code",
   "execution_count": 15,
   "id": "e484033d-4658-4e08-a099-0688585c572d",
   "metadata": {},
   "outputs": [
    {
     "data": {
      "text/plain": [
       "(50000, 32, 32, 3)"
      ]
     },
     "execution_count": 15,
     "metadata": {},
     "output_type": "execute_result"
    }
   ],
   "source": [
    "x_train.shape"
   ]
  },
  {
   "cell_type": "code",
   "execution_count": 16,
   "id": "e6e664bc-a17f-435d-a7b8-b2e99f310e05",
   "metadata": {},
   "outputs": [
    {
     "data": {
      "text/plain": [
       "(10000, 32, 32, 3)"
      ]
     },
     "execution_count": 16,
     "metadata": {},
     "output_type": "execute_result"
    }
   ],
   "source": [
    "x_test.shape"
   ]
  },
  {
   "cell_type": "code",
   "execution_count": 17,
   "id": "e571e156-fde9-4897-8324-a1cdb4f614ad",
   "metadata": {},
   "outputs": [
    {
     "data": {
      "text/plain": [
       "(50000, 1)"
      ]
     },
     "execution_count": 17,
     "metadata": {},
     "output_type": "execute_result"
    }
   ],
   "source": [
    "y_train.shape"
   ]
  },
  {
   "cell_type": "code",
   "execution_count": null,
   "id": "4f480221-511a-44f2-af1b-b8f836ac0f40",
   "metadata": {},
   "outputs": [],
   "source": []
  }
 ],
 "metadata": {
  "kernelspec": {
   "display_name": "Python 3",
   "language": "python",
   "name": "python3"
  },
  "language_info": {
   "codemirror_mode": {
    "name": "ipython",
    "version": 3
   },
   "file_extension": ".py",
   "mimetype": "text/x-python",
   "name": "python",
   "nbconvert_exporter": "python",
   "pygments_lexer": "ipython3",
   "version": "3.8.8"
  }
 },
 "nbformat": 4,
 "nbformat_minor": 5
}
